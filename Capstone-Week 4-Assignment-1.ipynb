{
    "cells": [
        {
            "metadata": {
                "collapsed": true
            },
            "cell_type": "markdown",
            "source": "### Introduction/Business Problem \nAccording to new data from the restaurant reviewing website Yelp, the share of Chinese restaurants in the top 20 metropolitan areas has been consistently falling. In 2015, an average of 7.3 percent of all restaurants in these areas were Chinese, compared with 6.5 percent in 2019. The share of Chinese restaurants in NYC has been declined just a little bit. In 2015, the figure was about 9 percent and in 2019, the figure became 8.6 percent. The decline in NYC is not obvious compared to the average decline in the top 20 metropolitan areas. Therefore, we can assume the demand of Chinese cuisine is still strong in NYC.\n\nThe purpose of this project is to explore which neighborhood in New York City has less density of Chinese restaurant."
        },
        {
            "metadata": {},
            "cell_type": "markdown",
            "source": "### Data section\nWe use the data from Foursquare.com to explore the density of Chinese restaurant in each neighborhood. In principle, the lower the density is, the lower the competition is. However, the result is for reference only because those who want to open a restaurant should also consider other factors, like the neighborhood's demographic, the average household income, and the security level, etc."
        },
        {
            "metadata": {},
            "cell_type": "code",
            "source": "",
            "execution_count": null,
            "outputs": []
        }
    ],
    "metadata": {
        "kernelspec": {
            "name": "python3",
            "display_name": "Python 3.7",
            "language": "python"
        },
        "language_info": {
            "name": "python",
            "version": "3.7.10",
            "mimetype": "text/x-python",
            "codemirror_mode": {
                "name": "ipython",
                "version": 3
            },
            "pygments_lexer": "ipython3",
            "nbconvert_exporter": "python",
            "file_extension": ".py"
        }
    },
    "nbformat": 4,
    "nbformat_minor": 1
}