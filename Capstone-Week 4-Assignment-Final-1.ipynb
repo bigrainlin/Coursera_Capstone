{
    "cells": [
        {
            "metadata": {
                "collapsed": true
            },
            "cell_type": "markdown",
            "source": "### Introduction/Business Problem \nAccording to new data from the restaurant reviewing website Yelp, the share of Chinese restaurants in the top 20 metropolitan areas has been consistently falling. In 2015, an average of 7.3 percent of all restaurants in these areas were Chinese, compared with 6.5 percent in 2019. The share of Chinese restaurants in NYC has been declined just a little bit. In 2015, the figure was about 9 percent and in 2019, the figure became 8.6 percent. The decline in NYC is not obvious compared to the average decline in the top 20 metropolitan areas. Therefore, we can assume the demand of Chinese cuisine is still strong in NYC.\n\nThe purpose of this project is to explore which neighborhood in New York City has less density of Chinese restaurant."
        },
        {
            "metadata": {},
            "cell_type": "markdown",
            "source": "### Data section\nWe use the data from Foursquare.com to explore the density of Chinese restaurant in each neighborhood. In principle, the lower the density is, the lower the competition is. However, the result is for reference only because those who want to open a restaurant should also consider other factors, like the neighborhood's demographic, the average household income, and the security level, etc."
        },
        {
            "metadata": {},
            "cell_type": "markdown",
            "source": "### Methodology\n1. We will use blow libraries to facilitate the data tidying and analysis.\n    - numpy\n    - pandas\n    - json\n    - geopy.geocoders\n    - matplotlib\n    - sklearn.cluster\n    - folium\n2. We firstly download and load the dataset of NYC neighborhood, and fill the latitude and longitude to each neighborhood.\n\n3. Add venue date of NYC from Foursquare.com.\n\n4. Remove venues other than Chinese restaurant from the dataframe.\n\n5. Cluster neighborhoods by the number of restaurant.\n\n6. Demonstrate the clusters in map"
        },
        {
            "metadata": {},
            "cell_type": "markdown",
            "source": "### Results\n- For cluster#1 neighborhoods, there is no Chinese restaurant in business.\n\n- For cluster#0 neighborhoods, there is 1 Chinese restaurant in business per neighborhood on average.\n\n- Staten Island has the lowset denisty of Chiense restaurant. On average, there are 0.27 Chinese restaurants per neighborhood. Next is the Manhattan, 0.38 Chinese restaurants on average."
        },
        {
            "metadata": {},
            "cell_type": "markdown",
            "source": "### Discussion\nUsing the number of Chinese restaurants for clustering can shed light on which neighborhood does not, or has fewer, Chinese restaurants in business. The information can help those who are considering establishing their restaurant business in NYC. However, there may have some reasons for those neighborhoods where do not have any Chinese restaurant. We will need more information or to do some field survey before we come to a further conclusion about these neighborhoods.\n\nThe bar chart indicates that there is no Chinese restaurant in business in Staten Island. The possible reason behind that could be the low population of Staten Island. Since, on average, Chinese food is relatively economical compared to other cuisines, maybe that is why the average number of Chinese restaurants is much more in the Bronx than in Manhattan."
        },
        {
            "metadata": {},
            "cell_type": "markdown",
            "source": "### Conclusion\nFor whom is considering to establish his/her Chinese restaurant business, the cluster#0 neighborhoods might be a start point to survey whether they are good place to open a Chinese restaurant. As discussed, a field survey is necessary becaue there may be some other adverse factor behind it. For cluster#1 neighborhoods, the competition is moderate. One can leverage either cost-leadership or differentiation strategy to compete in these neighborhoods. \n\nIn terms of Chinese food, the competition in the Manhattan is moderate. However, because of the prosperity of restaurant industry in Manhattan, we should not only consider other Chinese restaurants as competitors. Therefore, a differentiation strategy is essential to success."
        },
        {
            "metadata": {},
            "cell_type": "code",
            "source": "",
            "execution_count": null,
            "outputs": []
        }
    ],
    "metadata": {
        "kernelspec": {
            "name": "python3",
            "display_name": "Python 3.7",
            "language": "python"
        },
        "language_info": {
            "name": "python",
            "version": "3.7.10",
            "mimetype": "text/x-python",
            "codemirror_mode": {
                "name": "ipython",
                "version": 3
            },
            "pygments_lexer": "ipython3",
            "nbconvert_exporter": "python",
            "file_extension": ".py"
        }
    },
    "nbformat": 4,
    "nbformat_minor": 1
}